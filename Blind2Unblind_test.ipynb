{
  "nbformat": 4,
  "nbformat_minor": 0,
  "metadata": {
    "colab": {
      "provenance": [],
      "authorship_tag": "ABX9TyOdIqX8ELtBsBosQhYbYNal",
      "include_colab_link": true
    },
    "kernelspec": {
      "name": "python3",
      "display_name": "Python 3"
    },
    "language_info": {
      "name": "python"
    },
    "accelerator": "GPU",
    "gpuClass": "standard"
  },
  "cells": [
    {
      "cell_type": "markdown",
      "metadata": {
        "id": "view-in-github",
        "colab_type": "text"
      },
      "source": [
        "<a href=\"https://colab.research.google.com/github/Wuito/Self-supervised-learning-Denoising/blob/main/Blind2Unblind_test.ipynb\" target=\"_parent\"><img src=\"https://colab.research.google.com/assets/colab-badge.svg\" alt=\"Open In Colab\"/></a>"
      ]
    },
    {
      "cell_type": "markdown",
      "source": [
        "#### 查看系统版本"
      ],
      "metadata": {
        "id": "NefsJA3K4atj"
      }
    },
    {
      "cell_type": "code",
      "execution_count": 1,
      "metadata": {
        "colab": {
          "base_uri": "https://localhost:8080/"
        },
        "id": "VRcPbQQl3bgR",
        "outputId": "4e79eaf7-c6e4-44e0-cba1-db3b1e76947b"
      },
      "outputs": [
        {
          "output_type": "stream",
          "name": "stdout",
          "text": [
            "No LSB modules are available.\n",
            "Distributor ID:\tUbuntu\n",
            "Description:\tUbuntu 20.04.5 LTS\n",
            "Release:\t20.04\n",
            "Codename:\tfocal\n"
          ]
        }
      ],
      "source": [
        "!lsb_release -a"
      ]
    },
    {
      "cell_type": "code",
      "source": [
        "!nvcc -V\n",
        "!cd /usr/local/cuda-12.1/bin/\n",
        "!sudo ./cuda-uninstaller\n",
        "!sudo rm -rf /usr/local/cuda-12.1"
      ],
      "metadata": {
        "colab": {
          "base_uri": "https://localhost:8080/"
        },
        "id": "eLAmSsU44_r-",
        "outputId": "9ec9d0fa-f762-4f75-dc1b-a84ff3fc82d8"
      },
      "execution_count": 3,
      "outputs": [
        {
          "output_type": "stream",
          "name": "stdout",
          "text": [
            "nvcc: NVIDIA (R) Cuda compiler driver\n",
            "Copyright (c) 2005-2023 NVIDIA Corporation\n",
            "Built on Tue_Feb__7_19:32:13_PST_2023\n",
            "Cuda compilation tools, release 12.1, V12.1.66\n",
            "Build cuda_12.1.r12.1/compiler.32415258_0\n",
            "sudo: ./cuda-uninstaller: command not found\n"
          ]
        }
      ]
    },
    {
      "cell_type": "code",
      "source": [
        "# 下载CUDA包\n",
        "!wget https://developer.download.nvidia.com/compute/cuda/repos/ubuntu2004/x86_64/cuda-ubuntu2004.pin\n",
        "!sudo mv cuda-ubuntu2004.pin /etc/apt/preferences.d/cuda-repository-pin-600\n",
        "!wget https://developer.download.nvidia.com/compute/cuda/11.0.3/local_installers/cuda-repo-ubuntu2004-11-0-local_11.0.3-450.51.06-1_amd64.deb\n",
        "!sudo dpkg -i cuda-repo-ubuntu2004-11-0-local_11.0.3-450.51.06-1_amd64.deb\n",
        "!sudo apt-key add /var/cuda-repo-ubuntu2004-11-0-local/7fa2af80.pub\n",
        "!sudo apt-get update\n",
        "!sudo apt-get -y install cuda\n",
        "# 检查CUDA版本\n",
        "!nvcc -V"
      ],
      "metadata": {
        "colab": {
          "base_uri": "https://localhost:8080/"
        },
        "id": "uwGBqwkn4fF5",
        "outputId": "c609506f-0982-4753-cc6c-1a365e1fd74a"
      },
      "execution_count": 5,
      "outputs": [
        {
          "output_type": "stream",
          "name": "stdout",
          "text": [
            "--2023-03-13 12:22:28--  https://developer.download.nvidia.com/compute/cuda/repos/ubuntu2004/x86_64/cuda-ubuntu2004.pin\n",
            "Resolving developer.download.nvidia.com (developer.download.nvidia.com)... 152.199.20.126\n",
            "Connecting to developer.download.nvidia.com (developer.download.nvidia.com)|152.199.20.126|:443... connected.\n",
            "HTTP request sent, awaiting response... 200 OK\n",
            "Length: 190 [application/octet-stream]\n",
            "Saving to: ‘cuda-ubuntu2004.pin’\n",
            "\n",
            "\rcuda-ubuntu2004.pin   0%[                    ]       0  --.-KB/s               \rcuda-ubuntu2004.pin 100%[===================>]     190  --.-KB/s    in 0s      \n",
            "\n",
            "2023-03-13 12:22:29 (3.65 MB/s) - ‘cuda-ubuntu2004.pin’ saved [190/190]\n",
            "\n",
            "--2023-03-13 12:22:29--  https://developer.download.nvidia.com/compute/cuda/11.0.3/local_installers/cuda-repo-ubuntu2004-11-0-local_11.0.3-450.51.06-1_amd64.deb\n",
            "Resolving developer.download.nvidia.com (developer.download.nvidia.com)... 152.199.20.126\n",
            "Connecting to developer.download.nvidia.com (developer.download.nvidia.com)|152.199.20.126|:443... connected.\n",
            "HTTP request sent, awaiting response... 200 OK\n",
            "Length: 2306981744 (2.1G) [application/x-deb]\n",
            "Saving to: ‘cuda-repo-ubuntu2004-11-0-local_11.0.3-450.51.06-1_amd64.deb’\n",
            "\n",
            "cuda-repo-ubuntu200 100%[===================>]   2.15G   255MB/s    in 9.2s    \n",
            "\n",
            "2023-03-13 12:22:38 (238 MB/s) - ‘cuda-repo-ubuntu2004-11-0-local_11.0.3-450.51.06-1_amd64.deb’ saved [2306981744/2306981744]\n",
            "\n",
            "Selecting previously unselected package cuda-repo-ubuntu2004-11-0-local.\n",
            "(Reading database ... 133924 files and directories currently installed.)\n",
            "Preparing to unpack cuda-repo-ubuntu2004-11-0-local_11.0.3-450.51.06-1_amd64.deb ...\n",
            "Unpacking cuda-repo-ubuntu2004-11-0-local (11.0.3-450.51.06-1) ...\n",
            "Setting up cuda-repo-ubuntu2004-11-0-local (11.0.3-450.51.06-1) ...\n",
            "OK\n",
            "Get:1 file:/var/cuda-repo-ubuntu2004-11-0-local  InRelease\n",
            "Ign:1 file:/var/cuda-repo-ubuntu2004-11-0-local  InRelease\n",
            "Get:2 file:/var/cuda-repo-ubuntu2004-11-0-local  Release [564 B]\n",
            "Get:2 file:/var/cuda-repo-ubuntu2004-11-0-local  Release [564 B]\n",
            "Get:3 file:/var/cuda-repo-ubuntu2004-11-0-local  Release.gpg [836 B]\n",
            "Get:3 file:/var/cuda-repo-ubuntu2004-11-0-local  Release.gpg [836 B]\n",
            "Hit:4 http://security.ubuntu.com/ubuntu focal-security InRelease\n",
            "Hit:5 http://ppa.launchpad.net/c2d4u.team/c2d4u4.0+/ubuntu focal InRelease\n",
            "Hit:6 http://ppa.launchpad.net/cran/libgit2/ubuntu focal InRelease\n",
            "Hit:7 https://cloud.r-project.org/bin/linux/ubuntu focal-cran40/ InRelease\n",
            "Hit:8 http://ppa.launchpad.net/deadsnakes/ppa/ubuntu focal InRelease\n",
            "Hit:9 http://ppa.launchpad.net/graphics-drivers/ppa/ubuntu focal InRelease\n",
            "Hit:10 http://ppa.launchpad.net/ubuntugis/ppa/ubuntu focal InRelease\n",
            "Get:11 file:/var/cuda-repo-ubuntu2004-11-0-local  Packages [24.4 kB]\n",
            "Hit:12 http://archive.ubuntu.com/ubuntu focal InRelease\n",
            "Hit:13 http://archive.ubuntu.com/ubuntu focal-updates InRelease\n",
            "Hit:14 http://archive.ubuntu.com/ubuntu focal-backports InRelease\n",
            "Ign:15 https://developer.download.nvidia.com/compute/machine-learning/repos/ubuntu2004/x86_64  InRelease\n",
            "Hit:16 https://developer.download.nvidia.com/compute/cuda/repos/ubuntu2004/x86_64  InRelease\n",
            "Hit:17 https://developer.download.nvidia.com/compute/machine-learning/repos/ubuntu2004/x86_64  Release\n",
            "Reading package lists... Done\n",
            "Reading package lists... Done\n",
            "Building dependency tree       \n",
            "Reading state information... Done\n",
            "cuda is already the newest version (12.1.0-1).\n",
            "0 upgraded, 0 newly installed, 0 to remove and 26 not upgraded.\n",
            "nvcc: NVIDIA (R) Cuda compiler driver\n",
            "Copyright (c) 2005-2023 NVIDIA Corporation\n",
            "Built on Tue_Feb__7_19:32:13_PST_2023\n",
            "Cuda compilation tools, release 12.1, V12.1.66\n",
            "Build cuda_12.1.r12.1/compiler.32415258_0\n"
          ]
        }
      ]
    }
  ]
}